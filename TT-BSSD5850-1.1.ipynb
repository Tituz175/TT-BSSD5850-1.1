{
 "cells": [
  {
   "cell_type": "code",
   "execution_count": 1,
   "id": "b84a55ed-9824-481a-bc10-fbd10b5a34bd",
   "metadata": {},
   "outputs": [
    {
     "name": "stdout",
     "output_type": "stream",
     "text": [
      "Python 3.11.7\n"
     ]
    }
   ],
   "source": [
    "!python -V"
   ]
  },
  {
   "cell_type": "code",
   "execution_count": 2,
   "id": "b9bc1cc0-2ab8-45ad-82e8-c08db1757d7a",
   "metadata": {},
   "outputs": [],
   "source": [
    "# %pip install tensorflow scikit-learn"
   ]
  },
  {
   "cell_type": "code",
   "execution_count": 3,
   "id": "a35a2197-2681-4357-bde5-80da9a5f7447",
   "metadata": {},
   "outputs": [
    {
     "name": "stdout",
     "output_type": "stream",
     "text": [
      "WARNING:tensorflow:From C:\\Users\\tobit\\AppData\\Local\\Packages\\PythonSoftwareFoundation.Python.3.11_qbz5n2kfra8p0\\LocalCache\\local-packages\\Python311\\site-packages\\keras\\src\\losses.py:2976: The name tf.losses.sparse_softmax_cross_entropy is deprecated. Please use tf.compat.v1.losses.sparse_softmax_cross_entropy instead.\n",
      "\n"
     ]
    }
   ],
   "source": [
    "import tensorflow\n",
    "import tensorflow.keras"
   ]
  },
  {
   "cell_type": "code",
   "execution_count": 4,
   "id": "5ee1d549-2200-4ad0-98e1-546b2250b7d0",
   "metadata": {},
   "outputs": [
    {
     "name": "stdout",
     "output_type": "stream",
     "text": [
      "<module 'tensorflow._api.v2.version' from 'C:\\\\Users\\\\tobit\\\\AppData\\\\Local\\\\Packages\\\\PythonSoftwareFoundation.Python.3.11_qbz5n2kfra8p0\\\\LocalCache\\\\local-packages\\\\Python311\\\\site-packages\\\\tensorflow\\\\_api\\\\v2\\\\version\\\\__init__.py'>\n"
     ]
    }
   ],
   "source": [
    "print(tensorflow.version)"
   ]
  },
  {
   "cell_type": "markdown",
   "id": "17d9157d-21ef-4641-87c1-16edadab6e49",
   "metadata": {},
   "source": [
    "# import sys to see which version of python is running"
   ]
  },
  {
   "cell_type": "code",
   "execution_count": 5,
   "id": "ca051df7-eec6-4c67-a36d-712b37970abf",
   "metadata": {},
   "outputs": [],
   "source": [
    "import sys"
   ]
  },
  {
   "cell_type": "markdown",
   "id": "17a63f38-c036-4f1a-a19d-32edbff60bb9",
   "metadata": {},
   "source": [
    "sys.version"
   ]
  },
  {
   "cell_type": "code",
   "execution_count": 6,
   "id": "ec22fb39-2c29-4c1d-b2b4-58f611816d4b",
   "metadata": {},
   "outputs": [],
   "source": [
    "a = 3"
   ]
  },
  {
   "cell_type": "code",
   "execution_count": 7,
   "id": "2cb9a7d6-59ad-4436-a9d8-da42c487bffb",
   "metadata": {},
   "outputs": [],
   "source": [
    "b = 4"
   ]
  },
  {
   "cell_type": "code",
   "execution_count": 8,
   "id": "34e95aa3-325a-4e37-af95-a5062653a050",
   "metadata": {},
   "outputs": [
    {
     "data": {
      "text/plain": [
       "7"
      ]
     },
     "execution_count": 8,
     "metadata": {},
     "output_type": "execute_result"
    }
   ],
   "source": [
    "a + b"
   ]
  },
  {
   "cell_type": "code",
   "execution_count": 9,
   "id": "ef49cb62-dd85-40d3-b008-f8a289001529",
   "metadata": {},
   "outputs": [],
   "source": [
    "import random"
   ]
  },
  {
   "cell_type": "code",
   "execution_count": 10,
   "id": "2c25936e-2292-47a6-a710-e829f02d7cfc",
   "metadata": {},
   "outputs": [
    {
     "name": "stdout",
     "output_type": "stream",
     "text": [
      "300\n"
     ]
    }
   ],
   "source": [
    "a_orig = []\n",
    "for  _ in range(300):\n",
    "    a_orig.append(random.randrange(20))\n",
    "print(len(a_orig))"
   ]
  },
  {
   "cell_type": "code",
   "execution_count": 11,
   "id": "2a652947-3603-41c6-a8a8-4e8497c99f04",
   "metadata": {},
   "outputs": [],
   "source": [
    "a = a_orig.copy()"
   ]
  },
  {
   "cell_type": "code",
   "execution_count": 12,
   "id": "c46a6c42-0a62-406d-aaa5-8d5298b520e5",
   "metadata": {},
   "outputs": [],
   "source": [
    "a_subset = a_orig[:int(len(a_orig)*.8)]\n",
    "a_test = a_orig[int(len(a_orig)*.8):]"
   ]
  },
  {
   "cell_type": "code",
   "execution_count": 13,
   "id": "4006aa2a-9e47-4665-929a-b0cc541ce89c",
   "metadata": {},
   "outputs": [
    {
     "name": "stdout",
     "output_type": "stream",
     "text": [
      "240\n"
     ]
    }
   ],
   "source": [
    "print(len(a_subset))"
   ]
  },
  {
   "cell_type": "code",
   "execution_count": 14,
   "id": "3ad41e4f-7d52-4a09-a36d-9641e2cf396b",
   "metadata": {},
   "outputs": [
    {
     "name": "stdout",
     "output_type": "stream",
     "text": [
      "60\n"
     ]
    }
   ],
   "source": [
    "print(len(a_test))"
   ]
  }
 ],
 "metadata": {
  "kernelspec": {
   "display_name": "Python 3 (ipykernel)",
   "language": "python",
   "name": "python3"
  },
  "language_info": {
   "codemirror_mode": {
    "name": "ipython",
    "version": 3
   },
   "file_extension": ".py",
   "mimetype": "text/x-python",
   "name": "python",
   "nbconvert_exporter": "python",
   "pygments_lexer": "ipython3",
   "version": "3.11.7"
  }
 },
 "nbformat": 4,
 "nbformat_minor": 5
}
